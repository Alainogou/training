{
 "cells": [
  {
   "cell_type": "code",
   "execution_count": 4,
   "id": "4c464a8d-d14b-43e6-aa26-5d2e2258643c",
   "metadata": {},
   "outputs": [
    {
     "name": "stdout",
     "output_type": "stream",
     "text": [
      "Train :  [1 0 1 1 1 0 0 1 1 0]\n",
      "Test :  [1 1 0 0 0 1 1 1 0 0]\n"
     ]
    }
   ],
   "source": [
    "#Exercise 4: Classification\n",
    "from sklearn.linear_model import LogisticRegression\n",
    "from sklearn.datasets import load_breast_cancer\n",
    "from sklearn.model_selection import train_test_split\n",
    "from sklearn.preprocessing import StandardScaler\n",
    "\n",
    "X , y = load_breast_cancer(return_X_y=True)\n",
    "X_train, X_test, y_train, y_test = train_test_split(\n",
    "    X, y, test_size=0.20, random_state=43)\n",
    "scaler = StandardScaler()\n",
    "X_train_scaled = scaler.fit_transform(X_train)\n",
    "classifier = LogisticRegression()\n",
    "classifier.fit(X_train_scaled, y_train)\n",
    "\n",
    "y_train_pred = classifier.predict(X_train_scaled)\n",
    "\n",
    "X_test_scaled = scaler.transform(X_test)\n",
    "y_test_pred = classifier.predict(X_test_scaled)\n",
    "\n",
    "#1\n",
    "print(\"Train : \", y_train_pred[:10])\n",
    "print(\"Test : \", y_test_pred[:10])\n"
   ]
  },
  {
   "cell_type": "code",
   "execution_count": 8,
   "id": "0c4e23b2-711e-493f-8cbf-aeabe8d1cf43",
   "metadata": {},
   "outputs": [
    {
     "name": "stdout",
     "output_type": "stream",
     "text": [
      "\n",
      "Train\n",
      "F1 on the train set:  0.9911504424778761\n",
      "Accuracy on the train set:  0.989010989010989\n",
      "Recall on the train set:  0.9929078014184397\n",
      "Precision on the train set :  0.9893992932862191\n",
      "ROC_AUC on the train set:  0.9990161111794368\n",
      "\n",
      "Test\n",
      "F1 on the test set:  0.9801324503311258\n",
      "Accuracy on the test set:  0.9736842105263158\n",
      "Recall on the test set:  0.9866666666666667\n",
      "Precision on the test set :  0.9736842105263158\n",
      "ROC_AUC on the test set:  0.9863247863247864\n",
      "\n",
      "matrix\n",
      " [[37  2]\n",
      " [ 1 74]]\n"
     ]
    }
   ],
   "source": [
    "#2\n",
    "#Compute F1, accuracy, precision, recall, roc_auc scores on the train set and test set. Print the confusion matrix on the test set results\n",
    "from sklearn.metrics import f1_score, accuracy_score, precision_score, recall_score, roc_auc_score, confusion_matrix\n",
    "import matplotlib.pyplot as plt\n",
    "\n",
    "print(\"\\nTrain\")\n",
    "f1=f1_score(y_train, y_train_pred)\n",
    "acc=accuracy_score(y_train, y_train_pred)\n",
    "precision=precision_score(y_train, y_train_pred)\n",
    "recall=recall_score(y_train, y_train_pred)\n",
    "roc_auc= roc_auc_score(y_train, classifier.predict_proba(X_train_scaled)[:,1])\n",
    "\n",
    "print(\"F1 on the train set: \", f1)\n",
    "print(\"Accuracy on the train set: \", acc)\n",
    "print(\"Recall on the train set: \", recall)\n",
    "print(\"Precision on the train set : \", precision)\n",
    "print(\"ROC_AUC on the train set: \", roc_auc)\n",
    "\n",
    "print(\"\\nTest\")\n",
    "f1_test =f1_score(y_test, y_test_pred)\n",
    "acc_test=accuracy_score(y_test, y_test_pred)\n",
    "precision_test=precision_score(y_test, y_test_pred)\n",
    "recall_test=recall_score(y_test, y_test_pred)\n",
    "roc_auc_test= roc_auc_score(y_test, classifier.predict_proba(X_test_scaled)[:,1])\n",
    "\n",
    "print(\"F1 on the test set: \", f1_test)\n",
    "print(\"Accuracy on the test set: \", acc_test)\n",
    "print(\"Recall on the test set: \", recall_test)\n",
    "print(\"Precision on the test set : \", precision_test)\n",
    "print(\"ROC_AUC on the test set: \", roc_auc_test)\n",
    "\n",
    "\n",
    "cm = confusion_matrix(y_test, y_test_pred)\n",
    "print(\"\\nmatrix\\n\", cm)"
   ]
  },
  {
   "cell_type": "code",
   "execution_count": 6,
   "id": "30ff7d45-0c64-4b88-acfd-d9dacf0d993e",
   "metadata": {},
   "outputs": [
    {
     "data": {
      "image/png": "[encoded data removed]",
      "text/plain": [
       "<Figure size 640x480 with 1 Axes>"
      ]
     },
     "metadata": {},
     "output_type": "display_data"
    }
   ],
   "source": [
    "#3\n",
    "from sklearn import metrics\n",
    "# Print the confusion matrix on the test set results.\n",
    "fpr, tpr, thresholds = metrics.roc_curve(y_test, classifier.predict_proba(X_test_scaled)[:,1])\n",
    "roc_auc = metrics.auc(fpr, tpr)\n",
    "\n",
    "# display = metrics.RocCurveDisplay(fpr=fpr, tpr=tpr, roc_auc=roc_auc,\n",
    "#                                   estimator_name='Pipeline')\n",
    "# display.plot()\n",
    "# plt.show()\n",
    "\n",
    "plt.plot(fpr, tpr, label='Pipeline (AUC = %0.2f)' % roc_auc)\n",
    "plt.xlabel('False Positive Rate')\n",
    "plt.ylabel('True Positive Rate')\n",
    "plt.legend()\n",
    "plt.show()\n"
   ]
  }
 ],
 "metadata": {
  "kernelspec": {
   "display_name": "Python 3 (ipykernel)",
   "language": "python",
   "name": "python3"
  },
  "language_info": {
   "codemirror_mode": {
    "name": "ipython",
    "version": 3
   },
   "file_extension": ".py",
   "mimetype": "text/x-python",
   "name": "python",
   "nbconvert_exporter": "python",
   "pygments_lexer": "ipython3",
   "version": "3.8.20"
  }
 },
 "nbformat": 4,
 "nbformat_minor": 5
}
