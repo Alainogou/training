{
 "cells": [
  {
   "cell_type": "code",
   "execution_count": 6,
   "id": "2610096d-07de-48a9-b69c-a27c13180618",
   "metadata": {},
   "outputs": [
    {
     "name": "stdout",
     "output_type": "stream",
     "text": [
      "y_pred_train\n",
      " [1.54505951 2.21338527 2.2636205  ... 1.63444964 2.79157924 1.72208384]\n",
      "y_pred_test\n",
      " [1.82212706 1.98357668 0.80547979 ... 1.78819483 2.42885488 1.82762835]\n"
     ]
    }
   ],
   "source": [
    "#Exercise 3\n",
    "\n",
    "# imports\n",
    "from sklearn.datasets import fetch_california_housing\n",
    "from sklearn.model_selection import train_test_split\n",
    "from sklearn.linear_model import LinearRegression\n",
    "from sklearn.preprocessing import StandardScaler\n",
    "from sklearn.impute import SimpleImputer\n",
    "from sklearn.pipeline import Pipeline\n",
    "from sklearn.metrics import r2_score, mean_squared_error, mean_absolute_error\n",
    "\n",
    "# data\n",
    "housing = fetch_california_housing()\n",
    "X, y = housing['data'], housing['target']\n",
    "# split data train test\n",
    "X_train, X_test, y_train, y_test = train_test_split(X,\n",
    "                                                    y,\n",
    "                                                    test_size=0.1,\n",
    "                                                    shuffle=True,\n",
    "                                                    random_state=13)\n",
    "# pipeline\n",
    "pipeline = [('imputer', SimpleImputer(strategy='median')),\n",
    "            ('scaler', StandardScaler()),\n",
    "            ('lr', LinearRegression())]\n",
    "pipe = Pipeline(pipeline)\n",
    "# fit\n",
    "pipe.fit(X_train, y_train)\n",
    "\n",
    "#1\n",
    "y_pred_train = pipe.predict(X_train)\n",
    "y_pred_test = pipe.predict(X_test)\n",
    "print(\"y_pred_train\\n\", y_pred_train)\n",
    "print(\"y_pred_test\\n\", y_pred_test)\n"
   ]
  },
  {
   "cell_type": "code",
   "execution_count": 7,
   "id": "e3664a08-cd9c-4f0f-86dd-b731a8bc25a5",
   "metadata": {},
   "outputs": [
    {
     "name": "stdout",
     "output_type": "stream",
     "text": [
      "\n",
      "Train\n",
      "\n",
      "r2 on the train set: 0.6079874818809448\n",
      "MAE on the train set:  0.5300159371615255\n",
      "MSE on the train set:  0.5210784446797679\n",
      "\n",
      "Test\n",
      "\n",
      "r2 on the test set: 0.5903435927516574\n",
      "MAE on the test set:  0.5454023699809112\n",
      "MSE on the test set:  0.5537420654727397\n"
     ]
    }
   ],
   "source": [
    "#2\n",
    "\n",
    "print(\"\\nTrain\\n\")\n",
    "r2_train = r2_score(y_train, y_pred_train)\n",
    "mean_absolute_error_train = mean_absolute_error(y_train, y_pred_train)\n",
    "mse_train = mean_squared_error(y_train, y_pred_train)\n",
    "\n",
    "print(\"r2 on the train set:\", r2_train)\n",
    "print(\"MAE on the train set: \", mean_absolute_error_train)\n",
    "print(\"MSE on the train set: \", mse_train)\n",
    "\n",
    "print(\"\\nTest\\n\")\n",
    "r2_test = r2_score(y_test, y_pred_test)\n",
    "mean_absolute_error_test = mean_absolute_error(y_test, y_pred_test)\n",
    "mse_test = mean_squared_error(y_test, y_pred_test)\n",
    "\n",
    "print(\"r2 on the test set:\", r2_test)\n",
    "print(\"MAE on the test set: \", mean_absolute_error_test)\n",
    "print(\"MSE on the test set: \", mse_test)"
   ]
  }
 ],
 "metadata": {
  "kernelspec": {
   "display_name": "Python 3 (ipykernel)",
   "language": "python",
   "name": "python3"
  },
  "language_info": {
   "codemirror_mode": {
    "name": "ipython",
    "version": 3
   },
   "file_extension": ".py",
   "mimetype": "text/x-python",
   "name": "python",
   "nbconvert_exporter": "python",
   "pygments_lexer": "ipython3",
   "version": "3.8.20"
  }
 },
 "nbformat": 4,
 "nbformat_minor": 5
}
