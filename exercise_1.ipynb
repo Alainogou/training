{
 "cells": [
  {
   "cell_type": "code",
   "execution_count": 19,
   "id": "3ced3994-948a-4393-b91d-d855fe952a69",
   "metadata": {},
   "outputs": [
    {
     "name": "stdout",
     "output_type": "stream",
     "text": [
      "2.25\n"
     ]
    }
   ],
   "source": [
    "from sklearn.metrics import mean_squared_error\n",
    "import numpy as np\n",
    "y_true = [91, 51, 2.5, 2, -5]\n",
    "y_pred = [90, 48, 2, 2, -4]\n",
    "\n",
    "mse= mean_squared_error(y_true, y_pred)\n",
    "\n",
    "#mse_custom= ((np.array(y_true)- np.array(y_pred))**2).mean()\n",
    "#print(mse_custom)\n",
    "print(mse)\n"
   ]
  }
 ],
 "metadata": {
  "kernelspec": {
   "display_name": "Python 3 (ipykernel)",
   "language": "python",
   "name": "python3"
  },
  "language_info": {
   "codemirror_mode": {
    "name": "ipython",
    "version": 3
   },
   "file_extension": ".py",
   "mimetype": "text/x-python",
   "name": "python",
   "nbconvert_exporter": "python",
   "pygments_lexer": "ipython3",
   "version": "3.8.20"
  }
 },
 "nbformat": 4,
 "nbformat_minor": 5
}
