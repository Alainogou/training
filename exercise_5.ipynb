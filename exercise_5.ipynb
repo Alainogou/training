{
 "cells": [
  {
   "cell_type": "code",
   "execution_count": 13,
   "id": "17c323bc-41b8-4087-83d6-8c66fdc431bf",
   "metadata": {},
   "outputs": [],
   "source": [
    "#Exercise 5\n",
    "import numpy as np\n",
    "# imports\n",
    "from sklearn.datasets import fetch_california_housing\n",
    "from sklearn.model_selection import train_test_split\n",
    "from sklearn.linear_model import LinearRegression\n",
    "from sklearn.preprocessing import StandardScaler\n",
    "from sklearn.impute import SimpleImputer\n",
    "from sklearn.pipeline import Pipeline\n",
    "from sklearn.metrics import r2_score, mean_squared_error, mean_absolute_error\n",
    "# data\n",
    "housing = fetch_california_housing()\n",
    "X, y = housing['data'], housing['target']\n",
    "# split data train test\n",
    "X_train, X_test, y_train, y_test = train_test_split(X,\n",
    "                                                    y,\n",
    "                                                    test_size=0.1,\n",
    "                                                    shuffle=True,\n",
    "                                                    random_state=43)"
   ]
  },
  {
   "cell_type": "code",
   "execution_count": 14,
   "id": "539b1735-6ddc-4710-a293-c9487a6fe23f",
   "metadata": {},
   "outputs": [
    {
     "name": "stdout",
     "output_type": "stream",
     "text": [
      "Regression\n",
      "\n",
      "Train\n",
      "r2 score : 0.6054131599242079\n",
      "MAE:  0.533092001261455\n",
      "MSE: 0.5273648371379568\n",
      "\n",
      "Test\n",
      "r2 score : 0.6128959462132965\n",
      "MAE:  0.5196420310323713\n",
      "MSE: 0.49761195027083793\n"
     ]
    }
   ],
   "source": [
    "# pipeline regression\n",
    "pipeline_1 = [('imputer', SimpleImputer(strategy='median')),\n",
    "            ('scaler', StandardScaler()),\n",
    "            ('lr', LinearRegression())]\n",
    "pipe_1 = Pipeline(pipeline_1)\n",
    "# fit\n",
    "pipe_1.fit(X_train, y_train)\n",
    "\n",
    "print(\"Regression\")\n",
    "print(\"\\nTrain\")\n",
    "print(\"r2 score :\", r2_score(y_train, pipe_1.predict(X_train) ))\n",
    "print(\"MAE: \", mean_absolute_error(y_train, pipe_1.predict(X_train) ))\n",
    "print(\"MSE:\", mean_squared_error(y_train, pipe_1.predict(X_train) ))\n",
    "\n",
    "print(\"\\nTest\")\n",
    "print(\"r2 score :\", r2_score(y_test, pipe_1.predict(X_test) ))\n",
    "print(\"MAE: \", mean_absolute_error(y_test, pipe_1.predict(X_test) ))\n",
    "print(\"MSE:\", mean_squared_error(y_test, pipe_1.predict(X_test) ))"
   ]
  },
  {
   "cell_type": "code",
   "execution_count": 15,
   "id": "0b414d6c-829f-4ede-a909-af4907dfe70e",
   "metadata": {},
   "outputs": [
    {
     "name": "stdout",
     "output_type": "stream",
     "text": [
      "\n",
      "SVM\n",
      "\n",
      "Train\n",
      "r2 score : 0.7496108582936638\n",
      "MAE:  0.383564516332599\n",
      "MSE: 0.33464478671339204\n",
      "\n",
      "Test\n",
      "r2 score : 0.729508064989969\n",
      "MAE:  0.3897680598426777\n",
      "MSE: 0.3477101776542996\n"
     ]
    }
   ],
   "source": [
    "\n",
    "#pipeline svm\n",
    "import numpy as np\n",
    "from sklearn.svm import SVR\n",
    "pipeline_2 = [('imputer', SimpleImputer(strategy='median')),\n",
    "            ('scaler', StandardScaler()),\n",
    "            ('svm', SVR())]\n",
    "pipe_2 = Pipeline(pipeline_2)\n",
    "pipe_2.fit(X_train, y_train)\n",
    "\n",
    "print(\"\\nSVM\")\n",
    "print(\"\\nTrain\")\n",
    "print(\"r2 score :\", r2_score(y_train, pipe_2.predict(X_train) ))\n",
    "print(\"MAE: \", mean_absolute_error(y_train, pipe_2.predict(X_train) ))\n",
    "print(\"MSE:\", mean_squared_error(y_train, pipe_2.predict(X_train) ))\n",
    "\n",
    "print(\"\\nTest\")\n",
    "print(\"r2 score :\", r2_score(y_test, pipe_2.predict(X_test) ))\n",
    "print(\"MAE: \", mean_absolute_error(y_test, pipe_2.predict(X_test) ))\n",
    "print(\"MSE:\", mean_squared_error(y_test, pipe_2.predict(X_test) ))"
   ]
  },
  {
   "cell_type": "code",
   "execution_count": 16,
   "id": "787f6428-1d40-46aa-b807-1835ecd0cdd4",
   "metadata": {},
   "outputs": [
    {
     "name": "stdout",
     "output_type": "stream",
     "text": [
      "\n",
      "Decision Tree\n",
      "\n",
      "Train\n",
      "r2 score : 1.0\n",
      "MAE:  4.221907539810565e-17\n",
      "MSE: 9.24499456646287e-32\n",
      "\n",
      "Test\n",
      "r2 score : 0.6228217144931267\n",
      "MAE:  0.4403051356589147\n",
      "MSE: 0.4848526395290697\n"
     ]
    }
   ],
   "source": [
    "\n",
    "#pipeline Decision Tree\n",
    "from sklearn.tree import DecisionTreeRegressor\n",
    "pipeline_3 = [('imputer', SimpleImputer(strategy='median')),\n",
    "            ('scaler', StandardScaler()),\n",
    "            ('tree', DecisionTreeRegressor(random_state=43))]\n",
    "\n",
    "pipe_3 = Pipeline(pipeline_3)\n",
    "pipe_3.fit(X_train, y_train)\n",
    "\n",
    "print(\"\\nDecision Tree\")\n",
    "print(\"\\nTrain\")\n",
    "print(\"r2 score :\", r2_score(y_train, pipe_3.predict(X_train) ))\n",
    "print(\"MAE: \", mean_absolute_error(y_train, pipe_3.predict(X_train) ))\n",
    "print(\"MSE:\", mean_squared_error(y_train, pipe_3.predict(X_train) ))\n",
    "\n",
    "print(\"\\nTest\")\n",
    "print(\"r2 score :\", r2_score(y_test, pipe_3.predict(X_test) ))\n",
    "print(\"MAE: \", mean_absolute_error(y_test, pipe_3.predict(X_test) ))\n",
    "print(\"MSE:\", mean_squared_error(y_test, pipe_3.predict(X_test) ))"
   ]
  },
  {
   "cell_type": "code",
   "execution_count": 17,
   "id": "b6537669-6e24-43a0-aa1c-7f323e941a00",
   "metadata": {},
   "outputs": [
    {
     "name": "stdout",
     "output_type": "stream",
     "text": [
      "\n",
      "Random Forest\n",
      "\n",
      "Train\n",
      "r2 score : 0.9741263135396302\n",
      "MAE:  0.12000198560508221\n",
      "MSE: 0.03458015083247723\n",
      "\n",
      "Test\n",
      "r2 score : 0.8119778189909694\n",
      "MAE:  0.3194169859011629\n",
      "MSE: 0.24169750554364758\n"
     ]
    }
   ],
   "source": [
    "\n",
    "#Random Forest\n",
    "from sklearn.ensemble import RandomForestRegressor\n",
    "pipeline_4 = [('imputer', SimpleImputer(strategy='median')),\n",
    "            ('scaler', StandardScaler()),\n",
    "            ('rf', RandomForestRegressor(random_state=43))]\n",
    "\n",
    "pipe_4 = Pipeline(pipeline_4)\n",
    "pipe_4.fit(X_train, y_train)\n",
    "\n",
    "print(\"\\nRandom Forest\")\n",
    "print(\"\\nTrain\")\n",
    "print(\"r2 score :\", r2_score(y_train, pipe_4.predict(X_train) ))\n",
    "print(\"MAE: \", mean_absolute_error(y_train, pipe_4.predict(X_train) ))\n",
    "print(\"MSE:\", mean_squared_error(y_train, pipe_4.predict(X_train) ))\n",
    "\n",
    "print(\"\\nTest\")\n",
    "print(\"r2 score :\", r2_score(y_test, pipe_4.predict(X_test) ))\n",
    "print(\"MAE: \", mean_absolute_error(y_test, pipe_4.predict(X_test) ))\n",
    "print(\"MSE:\", mean_squared_error(y_test, pipe_4.predict(X_test) ))"
   ]
  },
  {
   "cell_type": "code",
   "execution_count": 18,
   "id": "cc9c6388-0b0a-4a55-833c-e4686a87d01b",
   "metadata": {},
   "outputs": [
    {
     "name": "stdout",
     "output_type": "stream",
     "text": [
      "\n",
      "Gradient Boosting\n",
      "\n",
      "Train\n",
      "r2 score : 0.8042086499063386\n",
      "MAE:  0.35656543036682264\n",
      "MSE: 0.26167490389525294\n",
      "\n",
      "Test\n",
      "r2 score : 0.7895081234643192\n",
      "MAE:  0.36455447680396397\n",
      "MSE: 0.27058170064218096\n"
     ]
    }
   ],
   "source": [
    "\n",
    "#Gradient Boosting\n",
    "from sklearn.ensemble import GradientBoostingRegressor\n",
    "pipeline_5 = [('imputer', SimpleImputer(strategy='median')),\n",
    "            ('scaler', StandardScaler()),\n",
    "            ('gb', GradientBoostingRegressor(random_state=43))]\n",
    "\n",
    "pipe_5 = Pipeline(pipeline_5)\n",
    "pipe_5.fit(X_train, y_train)\n",
    "\n",
    "print(\"\\nGradient Boosting\")\n",
    "print(\"\\nTrain\")\n",
    "print(\"r2 score :\", r2_score(y_train, pipe_5.predict(X_train) ))\n",
    "print(\"MAE: \", mean_absolute_error(y_train, pipe_5.predict(X_train) ))\n",
    "print(\"MSE:\", mean_squared_error(y_train, pipe_5.predict(X_train) ))\n",
    "\n",
    "print(\"\\nTest\")\n",
    "print(\"r2 score :\", r2_score(y_test, pipe_5.predict(X_test) ))\n",
    "print(\"MAE: \", mean_absolute_error(y_test, pipe_5.predict(X_test) ))\n",
    "print(\"MSE:\", mean_squared_error(y_test, pipe_5.predict(X_test) ))"
   ]
  },
  {
   "cell_type": "code",
   "execution_count": null,
   "id": "1ae3bed5-a4a4-4ef3-b546-5909a912074a",
   "metadata": {},
   "outputs": [],
   "source": []
  }
 ],
 "metadata": {
  "kernelspec": {
   "display_name": "Python 3 (ipykernel)",
   "language": "python",
   "name": "python3"
  },
  "language_info": {
   "codemirror_mode": {
    "name": "ipython",
    "version": 3
   },
   "file_extension": ".py",
   "mimetype": "text/x-python",
   "name": "python",
   "nbconvert_exporter": "python",
   "pygments_lexer": "ipython3",
   "version": "3.8.20"
  }
 },
 "nbformat": 4,
 "nbformat_minor": 5
}
