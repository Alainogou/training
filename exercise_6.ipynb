{
 "cells": [
  {
   "cell_type": "code",
   "execution_count": 2,
   "id": "3c55679c-7c8d-4bd7-aae0-8c5324f0e277",
   "metadata": {},
   "outputs": [
    {
     "name": "stdout",
     "output_type": "stream",
     "text": [
      "(RandomForestRegressor(max_depth=8, min_samples_leaf=10, n_estimators=50), {'max_depth': 8, 'min_samples_leaf': 10, 'n_estimators': 50}, 0.6525537741548737)\n",
      "[2.44711815]\n"
     ]
    }
   ],
   "source": [
    "#Exercise 6: Grid Search\n",
    "from sklearn.datasets import fetch_california_housing\n",
    "from sklearn.model_selection import GridSearchCV\n",
    "from sklearn.ensemble import RandomForestRegressor\n",
    "import numpy as np\n",
    "# data\n",
    "housing = fetch_california_housing()\n",
    "X, y = housing['data'], housing['target']\n",
    "\n",
    "parameters = {'n_estimators':[10, 20, 50],\n",
    "            'max_depth':[4,6,8],\n",
    "            'min_samples_leaf': [10,20,30]}\n",
    "\n",
    "rf = RandomForestRegressor()\n",
    "gridsearch = GridSearchCV(rf,\n",
    "                        parameters,\n",
    "                        cv = [(np.arange(18576), np.arange(18576,20640))],\n",
    "                        n_jobs=-1)\n",
    "gridsearch.fit(X, y)\n",
    "\n",
    "#2\n",
    "def select_model_verbose(gs):\n",
    "    return gs.best_estimator_, gs.best_params_, gs.best_score_\n",
    "\n",
    "print(select_model_verbose(gridsearch))\n",
    "\n",
    "\n",
    "#3\n",
    "new_point = np.array([[3.2031, 52., 5.47761194, 1.07960199, 910., 2.26368159, 37.85, -122.26]])\n",
    "model, best_params, best_score = select_model_verbose(gridsearch)\n",
    "pred=model.predict(new_point)\n",
    "print(pred)\n"
   ]
  }
 ],
 "metadata": {
  "kernelspec": {
   "display_name": "Python 3 (ipykernel)",
   "language": "python",
   "name": "python3"
  },
  "language_info": {
   "codemirror_mode": {
    "name": "ipython",
    "version": 3
   },
   "file_extension": ".py",
   "mimetype": "text/x-python",
   "name": "python",
   "nbconvert_exporter": "python",
   "pygments_lexer": "ipython3",
   "version": "3.8.20"
  }
 },
 "nbformat": 4,
 "nbformat_minor": 5
}
