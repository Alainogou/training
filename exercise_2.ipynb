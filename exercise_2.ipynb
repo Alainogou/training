{
 "cells": [
  {
   "cell_type": "code",
   "execution_count": null,
   "id": "50599115-33f7-4503-9ef0-6b5acb38b94f",
   "metadata": {},
   "outputs": [],
   "source": []
  }
 ],
 "metadata": {
  "kernelspec": {
   "display_name": "",
   "name": ""
  },
  "language_info": {
   "name": ""
  }
 },
 "nbformat": 4,
 "nbformat_minor": 5
}
